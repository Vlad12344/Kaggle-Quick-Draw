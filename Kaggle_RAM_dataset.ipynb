{
 "cells": [
  {
   "cell_type": "code",
   "execution_count": 3,
   "metadata": {},
   "outputs": [],
   "source": [
    "import os\n",
    "import random\n",
    "import imutils\n",
    "import numpy as np\n",
    "import pandas as pd\n",
    "import matplotlib.pyplot as plt\n",
    "from keras.utils import np_utils\n",
    "from keras.preprocessing import image\n",
    "from PIL import Image, ImageDraw, ImageOps\n",
    "from keras.models import Sequential\n",
    "from keras.layers import Dense, Flatten, Activation, Dropout\n",
    "from keras.optimizers import Adam\n",
    "from keras.layers.convolutional import Convolution2D, MaxPooling2D\n",
    "#from keras.applications import VGG16\n",
    "\n",
    "# seed для повторяемости результатов\n",
    "np.random.seed(42)"
   ]
  },
  {
   "cell_type": "code",
   "execution_count": 4,
   "metadata": {},
   "outputs": [],
   "source": [
    "X_train = np.load('/media/vlados/FreeSpace/Kaggle/dataset_2/X_train.npy')\n",
    "Y_train = np.load('/media/vlados/FreeSpace/Kaggle/dataset_2/Y_train.npy')\n",
    "x_test = np.load('/media/vlados/FreeSpace/Kaggle/dataset_2/x_test.npy')\n",
    "y_test = np.load('/media/vlados/FreeSpace/Kaggle/dataset_2/y_test.npy')"
   ]
  },
  {
   "cell_type": "code",
   "execution_count": 5,
   "metadata": {},
   "outputs": [],
   "source": [
    "x_test = x_test.astype('float16')\n",
    "x_test /= 255\n",
    "\n",
    "y_test = np_utils.to_categorical(y_test, 340)"
   ]
  },
  {
   "cell_type": "code",
   "execution_count": 6,
   "metadata": {},
   "outputs": [],
   "source": [
    "X_train = X_train.astype('float16')\n",
    "X_train /= 255\n",
    "\n",
    "Y_train = np_utils.to_categorical(Y_train, 340)"
   ]
  },
  {
   "cell_type": "code",
   "execution_count": 17,
   "metadata": {},
   "outputs": [],
   "source": [
    "model = Sequential()\n",
    "model.add(Convolution2D(filters = 128, kernel_size = (3, 3), padding = 'same',\n",
    "                 input_shape = (32,32,1), activation = 'relu', \n",
    "                 data_format = \"channels_last\"))\n",
    "model.add(MaxPooling2D(pool_size = (2,2), \n",
    "                       data_format = \"channels_last\"))\n",
    "model.add(Convolution2D(filters = 64, kernel_size = (3, 3), padding = 'valid',\n",
    "                 activation = 'relu', data_format = \"channels_last\"))\n",
    "model.add(MaxPooling2D(pool_size = (2,2), \n",
    "                       data_format = \"channels_last\"))\n",
    "model.add(Flatten())\n",
    "model.add(Dense(1024, activation = 'relu'))\n",
    "#model.add(Dense(420, activation = 'relu'))\n",
    "model.add(Dropout(0.25))\n",
    "model.add(Dense(340, activation = 'softmax'))"
   ]
  },
  {
   "cell_type": "code",
   "execution_count": 6,
   "metadata": {},
   "outputs": [
    {
     "name": "stdout",
     "output_type": "stream",
     "text": [
      "_________________________________________________________________\n",
      "Layer (type)                 Output Shape              Param #   \n",
      "=================================================================\n",
      "conv2d_1 (Conv2D)            (None, 32, 32, 128)       1280      \n",
      "_________________________________________________________________\n",
      "max_pooling2d_1 (MaxPooling2 (None, 16, 16, 128)       0         \n",
      "_________________________________________________________________\n",
      "conv2d_2 (Conv2D)            (None, 14, 14, 64)        73792     \n",
      "_________________________________________________________________\n",
      "max_pooling2d_2 (MaxPooling2 (None, 7, 7, 64)          0         \n",
      "_________________________________________________________________\n",
      "flatten_1 (Flatten)          (None, 3136)              0         \n",
      "_________________________________________________________________\n",
      "dense_1 (Dense)              (None, 1024)              3212288   \n",
      "_________________________________________________________________\n",
      "dropout_1 (Dropout)          (None, 1024)              0         \n",
      "_________________________________________________________________\n",
      "dense_2 (Dense)              (None, 340)               348500    \n",
      "=================================================================\n",
      "Total params: 3,635,860\n",
      "Trainable params: 3,635,860\n",
      "Non-trainable params: 0\n",
      "_________________________________________________________________\n"
     ]
    }
   ],
   "source": [
    "model.summary()"
   ]
  },
  {
   "cell_type": "code",
   "execution_count": 18,
   "metadata": {},
   "outputs": [],
   "source": [
    "model.compile(loss='categorical_crossentropy',\n",
    "              optimizer='SGD', \n",
    "              metrics=['accuracy'])"
   ]
  },
  {
   "cell_type": "code",
   "execution_count": 19,
   "metadata": {},
   "outputs": [
    {
     "name": "stdout",
     "output_type": "stream",
     "text": [
      "Train on 408000 samples, validate on 102000 samples\n",
      "Epoch 1/3\n",
      "408000/408000 [==============================] - 1045s 3ms/step - loss: 4.6236 - acc: 0.1231 - val_loss: 3.3723 - val_acc: 0.2919\n",
      "Epoch 2/3\n",
      "408000/408000 [==============================] - 1091s 3ms/step - loss: 3.0220 - acc: 0.3464 - val_loss: 2.5568 - val_acc: 0.4347\n",
      "Epoch 3/3\n",
      "408000/408000 [==============================] - 1145s 3ms/step - loss: 2.5011 - acc: 0.4388 - val_loss: 2.2772 - val_acc: 0.4889\n"
     ]
    },
    {
     "data": {
      "text/plain": [
       "<keras.callbacks.History at 0x7f85b0c88a58>"
      ]
     },
     "execution_count": 19,
     "metadata": {},
     "output_type": "execute_result"
    }
   ],
   "source": [
    "model.fit(X_train, Y_train, epochs=3, validation_split=0.2, shuffle=True)"
   ]
  },
  {
   "cell_type": "code",
   "execution_count": 39,
   "metadata": {},
   "outputs": [
    {
     "name": "stdout",
     "output_type": "stream",
     "text": [
      "68000/68000 [==============================] - 52s 760us/step\n"
     ]
    }
   ],
   "source": [
    "scores = model.evaluate(x_test, y_test)"
   ]
  },
  {
   "cell_type": "markdown",
   "metadata": {},
   "source": [
    "model_json = model.to_json()\n",
    "\n",
    "json_file = open('/media/vlados/FreeSpace/Kaggle/dataset/quick_doodle.h5', \"w\")\n",
    "json_file.write(model_json)\n",
    "json_file.close()"
   ]
  },
  {
   "cell_type": "code",
   "execution_count": 10,
   "metadata": {},
   "outputs": [],
   "source": [
    "loaded_model.save_weights('/media/vlados/FreeSpace/Kaggle/dataset/quick_doodle.h5')"
   ]
  },
  {
   "cell_type": "code",
   "execution_count": 7,
   "metadata": {},
   "outputs": [],
   "source": [
    "from keras.models import model_from_json\n",
    "\n",
    "json_file = open(\"/media/vlados/FreeSpace/Kaggle/dataset/quick_doodle.json\", \"r\")\n",
    "loaded_model_json = json_file.read()\n",
    "json_file.close()\n",
    "# Создаем модель на основе загруженных данных\n",
    "loaded_model = model_from_json(loaded_model_json)\n",
    "# Загружаем веса в модель\n",
    "loaded_model.load_weights('/media/vlados/FreeSpace/Kaggle/dataset/quick_doodle.h5')"
   ]
  },
  {
   "cell_type": "code",
   "execution_count": 8,
   "metadata": {},
   "outputs": [
    {
     "name": "stdout",
     "output_type": "stream",
     "text": [
      "Train on 408000 samples, validate on 102000 samples\n",
      "Epoch 1/10\n",
      "408000/408000 [==============================] - 990s 2ms/step - loss: 1.9341 - acc: 0.5519 - val_loss: 1.7235 - val_acc: 0.5969\n",
      "Epoch 2/10\n",
      "408000/408000 [==============================] - 934s 2ms/step - loss: 1.7667 - acc: 0.5850 - val_loss: 1.6817 - val_acc: 0.6052\n",
      "Epoch 3/10\n",
      "408000/408000 [==============================] - 918s 2ms/step - loss: 1.6722 - acc: 0.6034 - val_loss: 1.6612 - val_acc: 0.6090\n",
      "Epoch 4/10\n",
      "408000/408000 [==============================] - 996s 2ms/step - loss: 1.5910 - acc: 0.6203 - val_loss: 1.6622 - val_acc: 0.6078\n",
      "Epoch 5/10\n",
      "408000/408000 [==============================] - 987s 2ms/step - loss: 1.5238 - acc: 0.6322 - val_loss: 1.6468 - val_acc: 0.6121\n",
      "Epoch 6/10\n",
      "408000/408000 [==============================] - 981s 2ms/step - loss: 1.4600 - acc: 0.6448 - val_loss: 1.6397 - val_acc: 0.6146\n",
      "Epoch 7/10\n",
      "408000/408000 [==============================] - 984s 2ms/step - loss: 1.4011 - acc: 0.6569 - val_loss: 1.6511 - val_acc: 0.6134\n",
      "Epoch 8/10\n",
      "408000/408000 [==============================] - 984s 2ms/step - loss: 1.3451 - acc: 0.6669 - val_loss: 1.6525 - val_acc: 0.6113\n",
      "Epoch 9/10\n",
      "408000/408000 [==============================] - 960s 2ms/step - loss: 1.2874 - acc: 0.6794 - val_loss: 1.6669 - val_acc: 0.6101\n",
      "Epoch 10/10\n",
      "408000/408000 [==============================] - 1022s 3ms/step - loss: 1.2364 - acc: 0.6896 - val_loss: 1.6774 - val_acc: 0.6101\n",
      "Точность модели на тестовых данных: 61.10%\n"
     ]
    }
   ],
   "source": [
    "loaded_model.compile(loss=\"categorical_crossentropy\", optimizer=\"SGD\", metrics=[\"accuracy\"])\n",
    "\n",
    "loaded_model.fit(X_train, Y_train, epochs=10, validation_split=0.2, shuffle=True)\n",
    "\n",
    "scores = loaded_model.evaluate(x_test, y_test, verbose=0)\n",
    "print(\"Точность модели на тестовых данных: %.2f%%\" % (scores[1]*100))"
   ]
  },
  {
   "cell_type": "code",
   "execution_count": null,
   "metadata": {},
   "outputs": [],
   "source": [
    "model_json = loaded_model.to_json()\n",
    "# Записываем модель в файл\n",
    "json_file = open(\"/media/vlados/FreeSpace/Kaggle/dataset/quick_doodle.json\", \"w\")\n",
    "json_file.write(model_json)\n",
    "json_file.close()"
   ]
  }
 ],
 "metadata": {
  "kernelspec": {
   "display_name": "Python 3",
   "language": "python",
   "name": "python3"
  },
  "language_info": {
   "codemirror_mode": {
    "name": "ipython",
    "version": 3
   },
   "file_extension": ".py",
   "mimetype": "text/x-python",
   "name": "python",
   "nbconvert_exporter": "python",
   "pygments_lexer": "ipython3",
   "version": "3.6.5"
  }
 },
 "nbformat": 4,
 "nbformat_minor": 2
}
