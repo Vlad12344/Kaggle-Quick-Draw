{
 "cells": [
  {
   "cell_type": "code",
   "execution_count": 71,
   "metadata": {},
   "outputs": [],
   "source": [
    "import os\n",
    "import re\n",
    "import imutils\n",
    "import numpy as np\n",
    "import pandas as pd\n",
    "import matplotlib.pyplot as plt\n",
    "from keras.preprocessing import image \n",
    "from PIL import Image, ImageDraw, ImageOps\n"
   ]
  },
  {
   "cell_type": "code",
   "execution_count": 7,
   "metadata": {},
   "outputs": [],
   "source": [
    "Input_dir = '/media/vlados/FreeSpace/Kaggle' #csv files path\n",
    "classes_path = '/media/vlados/FreeSpace/Kaggle/Dat/test'"
   ]
  },
  {
   "cell_type": "code",
   "execution_count": 149,
   "metadata": {},
   "outputs": [],
   "source": [
    "def draw_it(raw_strokes):\n",
    "        image_ = Image.new(\"P\", (255,255), color=0)\n",
    "        image_draw = ImageDraw.Draw(image_)\n",
    "\n",
    "        for stroke in eval(raw_strokes):\n",
    "            for i in range(len(stroke[0])-1):\n",
    "\n",
    "                image_draw.line([stroke[0][i], \n",
    "                                 stroke[1][i],\n",
    "                                 stroke[0][i+1], \n",
    "                                 stroke[1][i+1]],\n",
    "                                fill=255, width=6)\n",
    "        image_ = np.array(image_) \n",
    "        image_ = imutils.resize(image_, width=32)\n",
    "        image_ = image_[:,:,np.newaxis]\n",
    "        \n",
    "        return (image_)\n",
    "\n",
    "def submission_x_test(path):\n",
    "    \n",
    "    test = pd.read_csv(path)\n",
    "    test = test.values\n",
    "    \n",
    "    x_test = np.zeros((len(test), 32, 32, 1), dtype='uint16')\n",
    "\n",
    "    for i in range(len(test)):\n",
    "        x_test[i] = draw_it(test[i,2])\n",
    "    \n",
    "    x_test = x_test.astype('float16')\n",
    "    x_test /= 255\n",
    "    \n",
    "    return (x_test)"
   ]
  },
  {
   "cell_type": "code",
   "execution_count": 150,
   "metadata": {},
   "outputs": [
    {
     "name": "stdout",
     "output_type": "stream",
     "text": [
      "(112199, 3) (112199, 32, 32, 1)\n",
      "Test array memory 0.21 GB\n"
     ]
    }
   ],
   "source": [
    "test = pd.read_csv(os.path.join(Input_dir, 'test_simplified.csv'))\n",
    "test = test.values\n",
    "x_test = submission_x_test(os.path.join(Input_dir, 'test_simplified.csv'))\n",
    "print(test.shape, x_test.shape)\n",
    "print('Test array memory {:.2f} GB'.format(x_test.nbytes / 1024.**3 ))"
   ]
  },
  {
   "cell_type": "code",
   "execution_count": 5,
   "metadata": {},
   "outputs": [],
   "source": [
    "from keras.models import model_from_json\n",
    "\n",
    "json_file = open(\"/media/vlados/FreeSpace/Kaggle/dataset/quick_doodle.json\", \"r\")\n",
    "loaded_model_json = json_file.read()\n",
    "json_file.close()\n",
    "# Создаем модель на основе загруженных данных\n",
    "loaded_model = model_from_json(loaded_model_json)\n",
    "# Загружаем веса в модель\n",
    "loaded_model.load_weights('/media/vlados/FreeSpace/Kaggle/dataset/quick_doodle.h5')"
   ]
  },
  {
   "cell_type": "code",
   "execution_count": 151,
   "metadata": {},
   "outputs": [
    {
     "name": "stdout",
     "output_type": "stream",
     "text": [
      "112199/112199 [==============================] - 66s 592us/step\n"
     ]
    }
   ],
   "source": [
    "test_predictions = loaded_model.predict(x_test, batch_size=128, verbose=1)"
   ]
  },
  {
   "cell_type": "code",
   "execution_count": 100,
   "metadata": {},
   "outputs": [],
   "source": [
    "def top3(predictions):\n",
    "    \n",
    "    classes = sorted(os.listdir(classes_path),key=str.lower)\n",
    "    top_3 =  np.argsort(-predictions)[:, 0:3]\n",
    "    top_3_name = np.empty(top_3.shape, dtype=object)\n",
    "    \n",
    "    for row in range(len(top_3)):\n",
    "        for element in range(3):\n",
    "            top_3_name[row,element] = re.sub(' ', '_', classes[top_3[row,element]]) \n",
    "    \n",
    "    return(top_3_name)"
   ]
  },
  {
   "cell_type": "code",
   "execution_count": 152,
   "metadata": {},
   "outputs": [
    {
     "data": {
      "text/html": [
       "<div>\n",
       "<style scoped>\n",
       "    .dataframe tbody tr th:only-of-type {\n",
       "        vertical-align: middle;\n",
       "    }\n",
       "\n",
       "    .dataframe tbody tr th {\n",
       "        vertical-align: top;\n",
       "    }\n",
       "\n",
       "    .dataframe thead th {\n",
       "        text-align: right;\n",
       "    }\n",
       "</style>\n",
       "<table border=\"1\" class=\"dataframe\">\n",
       "  <thead>\n",
       "    <tr style=\"text-align: right;\">\n",
       "      <th></th>\n",
       "      <th>word</th>\n",
       "    </tr>\n",
       "    <tr>\n",
       "      <th>key_id</th>\n",
       "      <th></th>\n",
       "    </tr>\n",
       "  </thead>\n",
       "  <tbody>\n",
       "    <tr>\n",
       "      <th>9000003627287624</th>\n",
       "      <td>mouse rain blackberry</td>\n",
       "    </tr>\n",
       "    <tr>\n",
       "      <th>9000010688666847</th>\n",
       "      <td>rain floor_lamp paintbrush</td>\n",
       "    </tr>\n",
       "    <tr>\n",
       "      <th>9000023642890129</th>\n",
       "      <td>floor_lamp rainbow carrot</td>\n",
       "    </tr>\n",
       "    <tr>\n",
       "      <th>9000038588854897</th>\n",
       "      <td>floor_lamp chandelier carrot</td>\n",
       "    </tr>\n",
       "    <tr>\n",
       "      <th>9000052667981386</th>\n",
       "      <td>mouse door chandelier</td>\n",
       "    </tr>\n",
       "  </tbody>\n",
       "</table>\n",
       "</div>"
      ],
      "text/plain": [
       "                                          word\n",
       "key_id                                        \n",
       "9000003627287624         mouse rain blackberry\n",
       "9000010688666847    rain floor_lamp paintbrush\n",
       "9000023642890129     floor_lamp rainbow carrot\n",
       "9000038588854897  floor_lamp chandelier carrot\n",
       "9000052667981386         mouse door chandelier"
      ]
     },
     "execution_count": 152,
     "metadata": {},
     "output_type": "execute_result"
    }
   ],
   "source": [
    "top = top3(test_predictions)\n",
    "\n",
    "preds_df = pd.DataFrame({'first': top[:,0], 'second': top[:,1], 'third': top[:,2]})\n",
    "preds_df['words'] = preds_df['first'] + \" \" + preds_df['second'] + \" \" + preds_df['third']\n",
    "\n",
    "sub = pd.read_csv(Input_dir + '/sample_submission.csv', index_col=['key_id'])\n",
    "sub['word'] = preds_df.words.values\n",
    "sub.to_csv('1class_per_label_proto.csv')\n",
    "sub.head()"
   ]
  },
  {
   "cell_type": "code",
   "execution_count": 148,
   "metadata": {},
   "outputs": [
    {
     "name": "stdout",
     "output_type": "stream",
     "text": [
      "string bean\n"
     ]
    }
   ],
   "source": [
    "classes = sorted(os.listdir(classes_path),key=str.lower)\n",
    "print(classes[288])"
   ]
  },
  {
   "cell_type": "code",
   "execution_count": 147,
   "metadata": {},
   "outputs": [
    {
     "data": {
      "text/plain": [
       "288"
      ]
     },
     "execution_count": 147,
     "metadata": {},
     "output_type": "execute_result"
    }
   ],
   "source": [
    "np.argmax(test_predictions[19,:])"
   ]
  },
  {
   "cell_type": "code",
   "execution_count": 146,
   "metadata": {},
   "outputs": [
    {
     "data": {
      "text/plain": [
       "<matplotlib.image.AxesImage at 0x7f014bcf24e0>"
      ]
     },
     "execution_count": 146,
     "metadata": {},
     "output_type": "execute_result"
    },
    {
     "data": {
      "image/png": "[encoded data removed]",
      "text/plain": [
       "<Figure size 432x288 with 1 Axes>"
      ]
     },
     "metadata": {},
     "output_type": "display_data"
    }
   ],
   "source": [
    "plt.imshow(image.array_to_img(x_test[19,:]))"
   ]
  }
 ],
 "metadata": {
  "kernelspec": {
   "display_name": "Python 3",
   "language": "python",
   "name": "python3"
  },
  "language_info": {
   "codemirror_mode": {
    "name": "ipython",
    "version": 3
   },
   "file_extension": ".py",
   "mimetype": "text/x-python",
   "name": "python",
   "nbconvert_exporter": "python",
   "pygments_lexer": "ipython3",
   "version": "3.6.5"
  }
 },
 "nbformat": 4,
 "nbformat_minor": 2
}
