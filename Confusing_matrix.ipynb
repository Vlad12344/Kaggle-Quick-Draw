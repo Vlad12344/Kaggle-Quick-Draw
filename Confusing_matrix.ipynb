{
  "nbformat": 4,
  "nbformat_minor": 0,
  "metadata": {
    "colab": {
      "name": "Confusing matrix.ipynb",
      "version": "0.3.2",
      "provenance": [],
      "collapsed_sections": [],
      "include_colab_link": true
    },
    "kernelspec": {
      "name": "python3",
      "display_name": "Python 3"
    },
    "accelerator": "GPU"
  },
  "cells": [
    {
      "cell_type": "markdown",
      "metadata": {
        "id": "view-in-github",
        "colab_type": "text"
      },
      "source": [
        "<a href=\"https://colab.research.google.com/github/Vlad12344/Kaggle-Quick-Draw/blob/master/Confusing_matrix.ipynb\" target=\"_parent\"><img src=\"https://colab.research.google.com/assets/colab-badge.svg\" alt=\"Open In Colab\"/></a>"
      ]
    },
    {
      "metadata": {
        "id": "7sYvw5_pzl8w",
        "colab_type": "code",
        "outputId": "d4bd8fa7-6754-4e9a-e37d-3baf1a926c99",
        "colab": {
          "base_uri": "https://localhost:8080/",
          "height": 51
        }
      },
      "cell_type": "code",
      "source": [
        "import os\n",
        "import re\n",
        "import random\n",
        "import numpy as np\n",
        "import pandas as pd\n",
        "import matplotlib.pyplot as plt\n",
        "from keras.utils import np_utils\n",
        "from keras.preprocessing import image\n",
        "from PIL import Image, ImageDraw, ImageOps\n",
        "from keras.models import Sequential\n",
        "from keras.layers import Dense, Flatten, Activation, Dropout\n",
        "from keras.optimizers import Adadelta\n",
        "from keras.layers.convolutional import Convolution2D, MaxPooling2D\n",
        "from keras import regularizers\n",
        "from keras.applications import MobileNet, VGG16\n",
        "from keras.models import model_from_json\n",
        "from keras.layers import BatchNormalization\n",
        "\n",
        "from google.colab import drive\n",
        "drive.mount('/content/drive/')\n",
        "\n",
        "# seed для повторяемости результатов\n",
        "np.random.seed(42)"
      ],
      "execution_count": 1,
      "outputs": [
        {
          "output_type": "stream",
          "text": [
            "Using TensorFlow backend.\n"
          ],
          "name": "stderr"
        },
        {
          "output_type": "stream",
          "text": [
            "Drive already mounted at /content/drive/; to attempt to forcibly remount, call drive.mount(\"/content/drive/\", force_remount=True).\n"
          ],
          "name": "stdout"
        }
      ]
    },
    {
      "metadata": {
        "id": "nXMRhO3jzzoO",
        "colab_type": "code",
        "colab": {}
      },
      "cell_type": "code",
      "source": [
        "size = 64\n",
        "PATH = '/content/drive/My Drive/colab'\n",
        "#PATH = '/content/drive/My Drive/colab/dataset_32x32/lower_75'\n",
        "#indexes = np.load('/content/drive/My Drive/colab/dataset_32x32/lower_75/index_lower_75.npy')"
      ],
      "execution_count": 0,
      "outputs": []
    },
    {
      "metadata": {
        "id": "PCI7gazPv7EA",
        "colab_type": "code",
        "colab": {}
      },
      "cell_type": "code",
      "source": [
        "def to_cat(y, indexes):\n",
        "  j = 0\n",
        "  y_test_or_train = np.zeros((len(y), len(indexes)))\n",
        "  \n",
        "  for i in y:\n",
        "    index = np.where(indexes == i)\n",
        "    y_test_or_train[j, index] = i\n",
        "    j += 1\n",
        "    \n",
        "  return(y_test_or_train)"
      ],
      "execution_count": 0,
      "outputs": []
    },
    {
      "metadata": {
        "id": "NWYqg5m9z3eN",
        "colab_type": "code",
        "colab": {}
      },
      "cell_type": "code",
      "source": [
        "x_test = np.load(os.path.join(PATH, 'x_test.npy'))\n",
        "y_test = np.load(os.path.join(PATH, 'y_test.npy'))\n",
        "\n",
        "x_test = x_test.astype('float16')\n",
        "x_test /= 255\n",
        "\n",
        "y_test = np_utils.to_categorical(y_test)"
      ],
      "execution_count": 0,
      "outputs": []
    },
    {
      "metadata": {
        "id": "SzoKpY9i0J3c",
        "colab_type": "code",
        "colab": {}
      },
      "cell_type": "code",
      "source": [
        "json_file = open(os.path.join(PATH,'quick_doodle_M.json'), \"r\")\n",
        "loaded_model_json = json_file.read()\n",
        "json_file.close()\n",
        "#Создаем модель на основе загруженных данных\n",
        "loaded_model = model_from_json(loaded_model_json)\n",
        "#Загружаем веса в модель\n",
        "loaded_model.load_weights(os.path.join(PATH,'quick_doodle_M.h5'))"
      ],
      "execution_count": 0,
      "outputs": []
    },
    {
      "metadata": {
        "id": "8SPTn5JH0Ooy",
        "colab_type": "code",
        "colab": {}
      },
      "cell_type": "code",
      "source": [
        "predict = loaded_model.predict(x_test, batch_size=128, verbose=0)"
      ],
      "execution_count": 0,
      "outputs": []
    },
    {
      "metadata": {
        "id": "GMCF_mXFx_HL",
        "colab_type": "code",
        "outputId": "eb52ca2b-980f-4cb7-ca12-83fbf42ee371",
        "colab": {
          "base_uri": "https://localhost:8080/",
          "height": 34
        }
      },
      "cell_type": "code",
      "source": [
        "print(np.argmax(predict[1,:]))"
      ],
      "execution_count": 0,
      "outputs": [
        {
          "output_type": "stream",
          "text": [
            "194\n"
          ],
          "name": "stdout"
        }
      ]
    },
    {
      "metadata": {
        "id": "5Ife0AcqC1by",
        "colab_type": "code",
        "outputId": "c37f4ebc-16a7-4aae-9ff9-7f45833d47be",
        "colab": {
          "base_uri": "https://localhost:8080/",
          "height": 34
        }
      },
      "cell_type": "code",
      "source": [
        "optim = Adadelta(lr=1.0, rho=0.95, epsilon=1e-08, decay=0.0)\n",
        "#y = to_cat(y_test, indexes)\n",
        "\n",
        "loaded_model.compile(optimizer=optim, loss='categorical_crossentropy',\n",
        "              metrics=['accuracy'])\n",
        "scores = loaded_model.evaluate(x_test, y_test, verbose=1)"
      ],
      "execution_count": 0,
      "outputs": [
        {
          "output_type": "stream",
          "text": [
            "197000/197000 [==============================] - 59s 301us/step\n"
          ],
          "name": "stdout"
        }
      ]
    },
    {
      "metadata": {
        "id": "lCAquCRdOG1f",
        "colab_type": "code",
        "outputId": "d413de19-1c4f-4c91-c7e6-d589fe8f29d9",
        "colab": {
          "base_uri": "https://localhost:8080/",
          "height": 34
        }
      },
      "cell_type": "code",
      "source": [
        "scores"
      ],
      "execution_count": 0,
      "outputs": [
        {
          "output_type": "execute_result",
          "data": {
            "text/plain": [
              "[1.371890412877659, 0.6443248730964467]"
            ]
          },
          "metadata": {
            "tags": []
          },
          "execution_count": 9
        }
      ]
    },
    {
      "metadata": {
        "id": "gQO3q6010w3p",
        "colab_type": "code",
        "colab": {}
      },
      "cell_type": "code",
      "source": [
        "top =  np.argsort(-predict)[:,0]"
      ],
      "execution_count": 0,
      "outputs": []
    },
    {
      "metadata": {
        "id": "4-eC3Grcyg5p",
        "colab_type": "code",
        "colab": {}
      },
      "cell_type": "code",
      "source": [
        "predict_classes = np.zeros((197000), dtype='uint16')\n",
        "j = 0\n",
        "for i in top:\n",
        "  predict_classes[j] = indexes[i]\n",
        "  j +=1"
      ],
      "execution_count": 0,
      "outputs": []
    },
    {
      "metadata": {
        "id": "lNoyWOjLwrZc",
        "colab_type": "code",
        "colab": {}
      },
      "cell_type": "code",
      "source": [
        "predict_test_classes = np.zeros((197000), dtype='uint16')\n",
        "j = 0\n",
        "for i in y_test:\n",
        "  predict_test_classes[j] = indexes[i]\n",
        "  j +=1"
      ],
      "execution_count": 0,
      "outputs": []
    },
    {
      "metadata": {
        "id": "oO0ondoY1Y8u",
        "colab_type": "code",
        "outputId": "e08b383c-5d29-416e-ddc6-d332c9661dec",
        "colab": {
          "base_uri": "https://localhost:8080/",
          "height": 34
        }
      },
      "cell_type": "code",
      "source": [
        "print(predict_classes[0:10])"
      ],
      "execution_count": 0,
      "outputs": [
        {
          "output_type": "stream",
          "text": [
            "[327  94  65  44 288 147 129 211 133  95]\n"
          ],
          "name": "stdout"
        }
      ]
    },
    {
      "metadata": {
        "id": "vYqxxX-F0W44",
        "colab_type": "code",
        "outputId": "a2e72707-7384-47be-b3d6-a6c5f206fc95",
        "colab": {
          "base_uri": "https://localhost:8080/",
          "height": 506
        }
      },
      "cell_type": "code",
      "source": [
        "y_test = np.load(os.path.join(PATH, 'y_test.npy'))\n",
        "# Confusion matrix result\n",
        "diag = np.zeros(197)\n",
        "  \n",
        "from sklearn.metrics import classification_report, confusion_matrix\n",
        "#y_pred = np.argmax(Y_pred, axis=1)\n",
        " \n",
        "#for ix in range(340):\n",
        "    #print(ix, confusion_matrix(np.argmax(y_test,axis=1),y_pred)[ix].sum())\n",
        "cm = confusion_matrix(predict_test_classes, predict_classes)\n",
        "\n",
        "cm = cm / 1000\n",
        "cm[0:8, 0:8]\n",
        "\n",
        "import seaborn as sn\n",
        "import pandas as pd\n",
        "\n",
        "df_cm = pd.DataFrame(cm[0:10,0:10],range(0,10),range(0,10))\n",
        "\n",
        "plt.figure(figsize = (8,8))\n",
        "sn.set(font_scale =1.4)\n",
        "sn.heatmap(df_cm, annot= True, annot_kws ={\"size\": 10})\n",
        "\n",
        "plt.show()\n",
        "\n",
        "for i in range(197):\n",
        "  diag[i] = cm[i,i]\n",
        "  \n",
        "diag = np.where(diag < 0.7)\n",
        "print(len(diag[0][:]))"
      ],
      "execution_count": 0,
      "outputs": [
        {
          "output_type": "display_data",
          "data": {
            "image/png": "[encoded data removed]",
            "text/plain": [
              "<matplotlib.figure.Figure at 0x7f7522b2ab00>"
            ]
          },
          "metadata": {
            "tags": []
          }
        },
        {
          "output_type": "stream",
          "text": [
            "128\n"
          ],
          "name": "stdout"
        }
      ]
    },
    {
      "metadata": {
        "id": "1gihze2ywhBW",
        "colab_type": "code",
        "colab": {}
      },
      "cell_type": "code",
      "source": [
        "df_cm.to_csv(os.path.join(PATH, 'confusion_matrix_197.csv'))"
      ],
      "execution_count": 0,
      "outputs": []
    },
    {
      "metadata": {
        "id": "mDcHS7tr5CgJ",
        "colab_type": "code",
        "colab": {}
      },
      "cell_type": "code",
      "source": [
        "index = np.zeros(197, dtype='uint16')\n",
        "for i in range(197):\n",
        "  index[i] = diag[0][i]\n",
        "np.save(os.path.join(PATH, 'index_lower_75.npy'), index)"
      ],
      "execution_count": 0,
      "outputs": []
    },
    {
      "metadata": {
        "id": "LDAgmISy5wo-",
        "colab_type": "text"
      },
      "cell_type": "markdown",
      "source": [
        "**Concatenate 13_million_param_cnn and 197_cnn**"
      ]
    },
    {
      "metadata": {
        "id": "pFiB4HNG5-pB",
        "colab_type": "code",
        "colab": {}
      },
      "cell_type": "code",
      "source": [
        ""
      ],
      "execution_count": 0,
      "outputs": []
    }
  ]
}